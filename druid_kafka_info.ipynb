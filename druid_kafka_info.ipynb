{
 "cells": [
  {
   "cell_type": "code",
   "execution_count": null,
   "id": "906b1d68",
   "metadata": {},
   "outputs": [],
   "source": [
    "\n",
    "\n",
    "{\"bootstrap.servers\": \"pkc-p11xm.us-east-1.aws.confluent.cloud:9092\",\n",
    " \"security.protocol\": \"SASL_SSL\",\n",
    " \"sasl.jaas.config\" : \"org.apache.kafka.common.security.plain.PlainLoginModule required username='23FUBUB7Y26ZYBN6' password='nI9Yo1Sf0m4cYGnltSvuqu8jLGlCXK9eHCaQcOy72ol+bRsLQ0BOcjFTKI0xl1H9'\", \n",
    " \"sasl.mechanism\": \"PLAIN\"\n",
    "}\n"
   ]
  }
 ],
 "metadata": {
  "kernelspec": {
   "display_name": "Python 3 (ipykernel)",
   "language": "python",
   "name": "python3"
  },
  "language_info": {
   "codemirror_mode": {
    "name": "ipython",
    "version": 3
   },
   "file_extension": ".py",
   "mimetype": "text/x-python",
   "name": "python",
   "nbconvert_exporter": "python",
   "pygments_lexer": "ipython3",
   "version": "3.12.3"
  }
 },
 "nbformat": 4,
 "nbformat_minor": 5
}
